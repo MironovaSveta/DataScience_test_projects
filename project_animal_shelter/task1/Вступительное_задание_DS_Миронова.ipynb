{
  "cells": [
    {
      "cell_type": "markdown",
      "metadata": {
        "id": "view-in-github",
        "colab_type": "text"
      },
      "source": [
        "<a href=\"https://colab.research.google.com/github/MironovaSveta/DataScience_test_projects/blob/master/project_animal_shelter/task1/%D0%92%D1%81%D1%82%D1%83%D0%BF%D0%B8%D1%82%D0%B5%D0%BB%D1%8C%D0%BD%D0%BE%D0%B5_%D0%B7%D0%B0%D0%B4%D0%B0%D0%BD%D0%B8%D0%B5_DS_%D0%9C%D0%B8%D1%80%D0%BE%D0%BD%D0%BE%D0%B2%D0%B0.ipynb\" target=\"_parent\"><img src=\"https://colab.research.google.com/assets/colab-badge.svg\" alt=\"Open In Colab\"/></a>"
      ]
    },
    {
      "cell_type": "markdown",
      "metadata": {
        "id": "BUlQvtb4ruzb"
      },
      "source": [
        "# Вступительное задание Мироновой Светланы в школу IT направления Data Science"
      ]
    },
    {
      "cell_type": "markdown",
      "metadata": {
        "id": "wnNwQnABzd6D"
      },
      "source": [
        "## Формулировка задания и структура отчета"
      ]
    },
    {
      "cell_type": "markdown",
      "metadata": {
        "id": "iBOLcbbKzb_1"
      },
      "source": [
        "Вступительное задание выполнено Мироновой Светланой 17.10.2022. \n",
        "\n",
        "Цель задания: определить, какие факторы влияют на забор животных из приюта города Остин, и научиться предсказывать вероятность забора животного.\n",
        "\n",
        "Для достижения поставленной цели были решены следующие задачи:\n",
        "\n",
        "1.   Загрузить данные о животных, прибывающих в приют и отбывающих из приюта города Остин (Техас, США) [Austin Animal Center Shelter Outcomes](https://data.austintexas.gov/Health-and-Community-Services/Austin-Animal-Center-Outcomes/9t4d-g238), [Austin Animal Center Shelter Intakes](https://data.austintexas.gov/Health-and-Community-Services/Austin-Animal-Center-Intakes/wter-evkm)\n",
        "2.   Провести предварительную обработку данных\n",
        "3.   Провести исследование данных\n",
        "4.   Построить две модели, предсказывающие, заберут ли животное из приюта\n",
        "5.   Сравнить модели между собой\n",
        "6.   Сформулировать выводы\n",
        "\n",
        "\n"
      ]
    },
    {
      "cell_type": "markdown",
      "metadata": {
        "id": "10ECV3cguD0T"
      },
      "source": [
        "## 1. Сбор данных"
      ]
    },
    {
      "cell_type": "code",
      "execution_count": null,
      "metadata": {
        "id": "Z7LSuVkEgBal"
      },
      "outputs": [],
      "source": [
        "import pandas as pd\n",
        "from google.colab import files\n",
        "import os\n",
        "import io\n",
        "import matplotlib.pyplot as plt\n",
        "import pylab\n",
        "from sklearn.model_selection import train_test_split\n",
        "from sklearn.preprocessing import MinMaxScaler\n",
        "from sklearn.linear_model import LogisticRegression\n",
        "import seaborn as sns\n",
        "import numpy as np\n",
        "from sklearn.neighbors import KNeighborsClassifier as KNN\n",
        "from sklearn.metrics import f1_score\n",
        "from sklearn.metrics import roc_auc_score, accuracy_score, confusion_matrix"
      ]
    },
    {
      "cell_type": "markdown",
      "metadata": {
        "id": "T2xvrP4QwEZM"
      },
      "source": [
        "Загружаем данные о животных из csv файлов в два датасета: df_intakes (информация о прибывающих в приют животных) и df_outcomes (информация о выходящих из приюта животных)"
      ]
    },
    {
      "cell_type": "code",
      "execution_count": null,
      "metadata": {
        "colab": {
          "base_uri": "https://localhost:8080/",
          "height": 108
        },
        "id": "V1vsgmckhXs2",
        "outputId": "5ec9a4e3-dc25-4836-9be0-8aa63b10003f"
      },
      "outputs": [
        {
          "output_type": "display_data",
          "data": {
            "text/plain": [
              "<IPython.core.display.HTML object>"
            ],
            "text/html": [
              "\n",
              "     <input type=\"file\" id=\"files-3dec6c02-d4f1-4de4-ad01-73927f738418\" name=\"files[]\" multiple disabled\n",
              "        style=\"border:none\" />\n",
              "     <output id=\"result-3dec6c02-d4f1-4de4-ad01-73927f738418\">\n",
              "      Upload widget is only available when the cell has been executed in the\n",
              "      current browser session. Please rerun this cell to enable.\n",
              "      </output>\n",
              "      <script>// Copyright 2017 Google LLC\n",
              "//\n",
              "// Licensed under the Apache License, Version 2.0 (the \"License\");\n",
              "// you may not use this file except in compliance with the License.\n",
              "// You may obtain a copy of the License at\n",
              "//\n",
              "//      http://www.apache.org/licenses/LICENSE-2.0\n",
              "//\n",
              "// Unless required by applicable law or agreed to in writing, software\n",
              "// distributed under the License is distributed on an \"AS IS\" BASIS,\n",
              "// WITHOUT WARRANTIES OR CONDITIONS OF ANY KIND, either express or implied.\n",
              "// See the License for the specific language governing permissions and\n",
              "// limitations under the License.\n",
              "\n",
              "/**\n",
              " * @fileoverview Helpers for google.colab Python module.\n",
              " */\n",
              "(function(scope) {\n",
              "function span(text, styleAttributes = {}) {\n",
              "  const element = document.createElement('span');\n",
              "  element.textContent = text;\n",
              "  for (const key of Object.keys(styleAttributes)) {\n",
              "    element.style[key] = styleAttributes[key];\n",
              "  }\n",
              "  return element;\n",
              "}\n",
              "\n",
              "// Max number of bytes which will be uploaded at a time.\n",
              "const MAX_PAYLOAD_SIZE = 100 * 1024;\n",
              "\n",
              "function _uploadFiles(inputId, outputId) {\n",
              "  const steps = uploadFilesStep(inputId, outputId);\n",
              "  const outputElement = document.getElementById(outputId);\n",
              "  // Cache steps on the outputElement to make it available for the next call\n",
              "  // to uploadFilesContinue from Python.\n",
              "  outputElement.steps = steps;\n",
              "\n",
              "  return _uploadFilesContinue(outputId);\n",
              "}\n",
              "\n",
              "// This is roughly an async generator (not supported in the browser yet),\n",
              "// where there are multiple asynchronous steps and the Python side is going\n",
              "// to poll for completion of each step.\n",
              "// This uses a Promise to block the python side on completion of each step,\n",
              "// then passes the result of the previous step as the input to the next step.\n",
              "function _uploadFilesContinue(outputId) {\n",
              "  const outputElement = document.getElementById(outputId);\n",
              "  const steps = outputElement.steps;\n",
              "\n",
              "  const next = steps.next(outputElement.lastPromiseValue);\n",
              "  return Promise.resolve(next.value.promise).then((value) => {\n",
              "    // Cache the last promise value to make it available to the next\n",
              "    // step of the generator.\n",
              "    outputElement.lastPromiseValue = value;\n",
              "    return next.value.response;\n",
              "  });\n",
              "}\n",
              "\n",
              "/**\n",
              " * Generator function which is called between each async step of the upload\n",
              " * process.\n",
              " * @param {string} inputId Element ID of the input file picker element.\n",
              " * @param {string} outputId Element ID of the output display.\n",
              " * @return {!Iterable<!Object>} Iterable of next steps.\n",
              " */\n",
              "function* uploadFilesStep(inputId, outputId) {\n",
              "  const inputElement = document.getElementById(inputId);\n",
              "  inputElement.disabled = false;\n",
              "\n",
              "  const outputElement = document.getElementById(outputId);\n",
              "  outputElement.innerHTML = '';\n",
              "\n",
              "  const pickedPromise = new Promise((resolve) => {\n",
              "    inputElement.addEventListener('change', (e) => {\n",
              "      resolve(e.target.files);\n",
              "    });\n",
              "  });\n",
              "\n",
              "  const cancel = document.createElement('button');\n",
              "  inputElement.parentElement.appendChild(cancel);\n",
              "  cancel.textContent = 'Cancel upload';\n",
              "  const cancelPromise = new Promise((resolve) => {\n",
              "    cancel.onclick = () => {\n",
              "      resolve(null);\n",
              "    };\n",
              "  });\n",
              "\n",
              "  // Wait for the user to pick the files.\n",
              "  const files = yield {\n",
              "    promise: Promise.race([pickedPromise, cancelPromise]),\n",
              "    response: {\n",
              "      action: 'starting',\n",
              "    }\n",
              "  };\n",
              "\n",
              "  cancel.remove();\n",
              "\n",
              "  // Disable the input element since further picks are not allowed.\n",
              "  inputElement.disabled = true;\n",
              "\n",
              "  if (!files) {\n",
              "    return {\n",
              "      response: {\n",
              "        action: 'complete',\n",
              "      }\n",
              "    };\n",
              "  }\n",
              "\n",
              "  for (const file of files) {\n",
              "    const li = document.createElement('li');\n",
              "    li.append(span(file.name, {fontWeight: 'bold'}));\n",
              "    li.append(span(\n",
              "        `(${file.type || 'n/a'}) - ${file.size} bytes, ` +\n",
              "        `last modified: ${\n",
              "            file.lastModifiedDate ? file.lastModifiedDate.toLocaleDateString() :\n",
              "                                    'n/a'} - `));\n",
              "    const percent = span('0% done');\n",
              "    li.appendChild(percent);\n",
              "\n",
              "    outputElement.appendChild(li);\n",
              "\n",
              "    const fileDataPromise = new Promise((resolve) => {\n",
              "      const reader = new FileReader();\n",
              "      reader.onload = (e) => {\n",
              "        resolve(e.target.result);\n",
              "      };\n",
              "      reader.readAsArrayBuffer(file);\n",
              "    });\n",
              "    // Wait for the data to be ready.\n",
              "    let fileData = yield {\n",
              "      promise: fileDataPromise,\n",
              "      response: {\n",
              "        action: 'continue',\n",
              "      }\n",
              "    };\n",
              "\n",
              "    // Use a chunked sending to avoid message size limits. See b/62115660.\n",
              "    let position = 0;\n",
              "    do {\n",
              "      const length = Math.min(fileData.byteLength - position, MAX_PAYLOAD_SIZE);\n",
              "      const chunk = new Uint8Array(fileData, position, length);\n",
              "      position += length;\n",
              "\n",
              "      const base64 = btoa(String.fromCharCode.apply(null, chunk));\n",
              "      yield {\n",
              "        response: {\n",
              "          action: 'append',\n",
              "          file: file.name,\n",
              "          data: base64,\n",
              "        },\n",
              "      };\n",
              "\n",
              "      let percentDone = fileData.byteLength === 0 ?\n",
              "          100 :\n",
              "          Math.round((position / fileData.byteLength) * 100);\n",
              "      percent.textContent = `${percentDone}% done`;\n",
              "\n",
              "    } while (position < fileData.byteLength);\n",
              "  }\n",
              "\n",
              "  // All done.\n",
              "  yield {\n",
              "    response: {\n",
              "      action: 'complete',\n",
              "    }\n",
              "  };\n",
              "}\n",
              "\n",
              "scope.google = scope.google || {};\n",
              "scope.google.colab = scope.google.colab || {};\n",
              "scope.google.colab._files = {\n",
              "  _uploadFiles,\n",
              "  _uploadFilesContinue,\n",
              "};\n",
              "})(self);\n",
              "</script> "
            ]
          },
          "metadata": {}
        },
        {
          "output_type": "stream",
          "name": "stdout",
          "text": [
            "Saving Austin_Animal_Center_Intakes.csv to Austin_Animal_Center_Intakes.csv\n",
            "Saving Austin_Animal_Center_Outcomes.csv to Austin_Animal_Center_Outcomes.csv\n"
          ]
        }
      ],
      "source": [
        "uploaded = files.upload()"
      ]
    },
    {
      "cell_type": "code",
      "execution_count": null,
      "metadata": {
        "id": "nFPvZ2UGl1jw"
      },
      "outputs": [],
      "source": [
        "df_intakes = pd.read_csv(io.BytesIO(uploaded['Austin_Animal_Center_Intakes.csv']))\n",
        "df_outcomes = pd.read_csv(io.BytesIO(uploaded['Austin_Animal_Center_Outcomes.csv']))"
      ]
    },
    {
      "cell_type": "markdown",
      "metadata": {
        "id": "FLsDht5Pw0T7"
      },
      "source": [
        "Объединяем датасеты df_intakes и df_oucomes в датасет df. В датасете df находится информация только о тех животных, для которых есть данные по прибытии в приют (= left join датасетов). "
      ]
    },
    {
      "cell_type": "code",
      "execution_count": null,
      "metadata": {
        "id": "z0grMy0g7KFR"
      },
      "outputs": [],
      "source": [
        "df = pd.merge(df_intakes, df_outcomes, on=['Animal ID'], how = \"left\")"
      ]
    },
    {
      "cell_type": "markdown",
      "metadata": {
        "id": "MwiXUfGUxrln"
      },
      "source": [
        "Проверяем правильность построения датасета df: количество и названия столбцов, количество пустых элементов."
      ]
    },
    {
      "cell_type": "code",
      "execution_count": null,
      "metadata": {
        "colab": {
          "base_uri": "https://localhost:8080/"
        },
        "id": "jhbwYeMbuBBt",
        "outputId": "c995ea3f-1607-4c11-e811-fc09cfa4bc64"
      },
      "outputs": [
        {
          "output_type": "stream",
          "name": "stdout",
          "text": [
            "(187041, 23) (144846, 12) (145040, 12)\n"
          ]
        }
      ],
      "source": [
        "print(df.shape, df_intakes.shape, df_outcomes.shape)"
      ]
    },
    {
      "cell_type": "code",
      "execution_count": null,
      "metadata": {
        "colab": {
          "base_uri": "https://localhost:8080/"
        },
        "id": "UoO5lItQ5d71",
        "outputId": "b5916f1c-5f54-4507-f1df-26644c665206"
      },
      "outputs": [
        {
          "output_type": "execute_result",
          "data": {
            "text/plain": [
              "Index(['Animal ID', 'Name_x', 'DateTime_x', 'MonthYear_x', 'Found Location',\n",
              "       'Intake Type', 'Intake Condition', 'Animal Type_x', 'Sex upon Intake',\n",
              "       'Age upon Intake', 'Breed_x', 'Color_x', 'Name_y', 'DateTime_y',\n",
              "       'MonthYear_y', 'Date of Birth', 'Outcome Type', 'Outcome Subtype',\n",
              "       'Animal Type_y', 'Sex upon Outcome', 'Age upon Outcome', 'Breed_y',\n",
              "       'Color_y'],\n",
              "      dtype='object')"
            ]
          },
          "metadata": {},
          "execution_count": 99
        }
      ],
      "source": [
        "df.columns"
      ]
    },
    {
      "cell_type": "code",
      "execution_count": null,
      "metadata": {
        "colab": {
          "base_uri": "https://localhost:8080/"
        },
        "id": "ESR1fCz-epah",
        "outputId": "10d6939f-1c37-40e4-b8fb-9cdaf3144913"
      },
      "outputs": [
        {
          "output_type": "execute_result",
          "data": {
            "text/plain": [
              "Animal ID                0\n",
              "Name_x               43172\n",
              "DateTime_x               0\n",
              "MonthYear_x              0\n",
              "Found Location           0\n",
              "Intake Type              0\n",
              "Intake Condition         0\n",
              "Animal Type_x            0\n",
              "Sex upon Intake          1\n",
              "Age upon Intake          0\n",
              "Breed_x                  0\n",
              "Color_x                  0\n",
              "Name_y               43694\n",
              "DateTime_y             635\n",
              "MonthYear_y            635\n",
              "Date of Birth          635\n",
              "Outcome Type           670\n",
              "Outcome Subtype     114064\n",
              "Animal Type_y          635\n",
              "Sex upon Outcome       636\n",
              "Age upon Outcome       675\n",
              "Breed_y                635\n",
              "Color_y                635\n",
              "dtype: int64"
            ]
          },
          "metadata": {},
          "execution_count": 100
        }
      ],
      "source": [
        "pd.isnull(df).sum()"
      ]
    },
    {
      "cell_type": "markdown",
      "metadata": {
        "id": "peoz_SLAh_ge"
      },
      "source": [
        "## 2. Предварительная обработка данных"
      ]
    },
    {
      "cell_type": "markdown",
      "metadata": {
        "id": "o4Qg6Iw9iHZJ"
      },
      "source": [
        "Для дальнейшего анализа была выполнена предварительная обработка данных:\n",
        "\n",
        "*  Исключены 670 строк с `Outcome Type` = None. То есть остались данные только о тех животных, про которых известно, каким именно образом они покинули приют.\n",
        "*  Обнаружено только одно животное, пол которого неизвестен. Исключим его, то есть строку с `Sex upon Intake` = None из дальнейшего анализа.\n",
        "*  Обнаружено 40 животных, возраст которых на момент отбытия из приюта неизвестен (столбец `Age upon Outcome`). Поскольку (по сравнению с общим количеством животных) было обнаружено мало животных с неопределенным возрастом, исключим их из дальнейшего анализа.\n",
        "*  Добавлены колонки `Days_upon_Intake` и `Days_upon_Outcome`, отображающие возраст животного в днях на момент прибытия в приют и отбытия из приюта. Колонки содержат информацию, преобразованную из колонок`Age upon Intake` и `Age upon Outcome`. Отрицательный возраст превращен в положительный.\n",
        "*  Добавлены колонки `DateTime_Intake` и `DateTime_Outcome`, содержащие информацию о датах, когда животное отправили в приют и выселили из приюта. Колонки хранят информацию из колонок `DateTime_x` и `DateTime_y`, преобразованную из строкового формата в формат datetime.\n"
      ]
    },
    {
      "cell_type": "code",
      "execution_count": null,
      "metadata": {
        "id": "AiR8fb0_iebG"
      },
      "outputs": [],
      "source": [
        "df = df[~df['Outcome Type'].isnull()]"
      ]
    },
    {
      "cell_type": "code",
      "execution_count": null,
      "metadata": {
        "id": "wv4-C4TOlSmx"
      },
      "outputs": [],
      "source": [
        "df = df[~df['Sex upon Intake'].isnull()]"
      ]
    },
    {
      "cell_type": "code",
      "execution_count": null,
      "metadata": {
        "id": "ZKnRs3lUm4CR"
      },
      "outputs": [],
      "source": [
        "df = df[~df['Age upon Outcome'].isnull()]"
      ]
    },
    {
      "cell_type": "code",
      "execution_count": null,
      "metadata": {
        "id": "DM4R0G1H2_AX"
      },
      "outputs": [],
      "source": [
        "def convertAgeToDays(strAge):\n",
        "  interval = {\"years\": 365, \"year\": 365, \"months\": 30, \"month\": 30, \"weeks\": 7, \"week\": 7, \"days\": 1, \"day\": 1}\n",
        "  intAge = [abs(int(i.split()[0])) * interval[i.split()[1]] for i in strAge]\n",
        "  return intAge"
      ]
    },
    {
      "cell_type": "code",
      "execution_count": null,
      "metadata": {
        "id": "FspOoSc4x1My"
      },
      "outputs": [],
      "source": [
        "df[\"Days_upon_Intake\"] = convertAgeToDays(df['Age upon Intake'])\n",
        "df[\"Days_upon_Outcome\"] = convertAgeToDays(df['Age upon Outcome'])"
      ]
    },
    {
      "cell_type": "code",
      "execution_count": null,
      "metadata": {
        "id": "zGKhDMkhAQIe"
      },
      "outputs": [],
      "source": [
        "df[\"DateTime_Intake\"] = pd.to_datetime(df[\"DateTime_x\"], format='%m/%d/%Y %H:%M:%S %p')\n",
        "df[\"DateTime_Outcome\"] = pd.to_datetime(df[\"DateTime_y\"], format='%m/%d/%Y %H:%M:%S %p')"
      ]
    },
    {
      "cell_type": "code",
      "execution_count": null,
      "metadata": {
        "colab": {
          "base_uri": "https://localhost:8080/"
        },
        "id": "7XeKWBbNjxv9",
        "outputId": "c59f2007-c892-4e25-f6af-0c73c222bc87"
      },
      "outputs": [
        {
          "output_type": "execute_result",
          "data": {
            "text/plain": [
              "Animal ID                 0\n",
              "Name_x                43017\n",
              "DateTime_x                0\n",
              "MonthYear_x               0\n",
              "Found Location            0\n",
              "Intake Type               0\n",
              "Intake Condition          0\n",
              "Animal Type_x             0\n",
              "Sex upon Intake           0\n",
              "Age upon Intake           0\n",
              "Breed_x                   0\n",
              "Color_x                   0\n",
              "Name_y                43017\n",
              "DateTime_y                0\n",
              "MonthYear_y               0\n",
              "Date of Birth             0\n",
              "Outcome Type              0\n",
              "Outcome Subtype      113390\n",
              "Animal Type_y             0\n",
              "Sex upon Outcome          0\n",
              "Age upon Outcome          0\n",
              "Breed_y                   0\n",
              "Color_y                   0\n",
              "Days_upon_Intake          0\n",
              "Days_upon_Outcome         0\n",
              "DateTime_Intake           0\n",
              "DateTime_Outcome          0\n",
              "dtype: int64"
            ]
          },
          "metadata": {},
          "execution_count": 107
        }
      ],
      "source": [
        "pd.isnull(df).sum()"
      ]
    },
    {
      "cell_type": "markdown",
      "metadata": {
        "id": "OPQx6CSKIgBA"
      },
      "source": [
        "## 3. Исследование данных"
      ]
    },
    {
      "cell_type": "markdown",
      "metadata": {
        "id": "rUKHfe1k0izc"
      },
      "source": [
        "### 3a. Меняют ли животные имя в приюте?"
      ]
    },
    {
      "cell_type": "markdown",
      "metadata": {
        "id": "keQ-T4l4pxQ2"
      },
      "source": [
        "Согласно этой проверке, ни одно животное не меняло имя в процессе нахождения в приюте:"
      ]
    },
    {
      "cell_type": "code",
      "execution_count": null,
      "metadata": {
        "colab": {
          "base_uri": "https://localhost:8080/"
        },
        "id": "vflONYwxnvfN",
        "outputId": "5d257de1-e4c1-49a7-9fac-c7f001254f47"
      },
      "outputs": [
        {
          "output_type": "execute_result",
          "data": {
            "text/plain": [
              "143313"
            ]
          },
          "metadata": {},
          "execution_count": 108
        }
      ],
      "source": [
        "sum(df[~df['Name_x'].isnull()]['Name_x'] == df[~df['Name_x'].isnull()]['Name_y'])"
      ]
    },
    {
      "cell_type": "code",
      "execution_count": null,
      "metadata": {
        "colab": {
          "base_uri": "https://localhost:8080/"
        },
        "id": "oexBPccJpBUD",
        "outputId": "4a2fa2cb-4504-4295-fea0-8fc52e0183f0"
      },
      "outputs": [
        {
          "output_type": "execute_result",
          "data": {
            "text/plain": [
              "0"
            ]
          },
          "metadata": {},
          "execution_count": 109
        }
      ],
      "source": [
        "sum(df[~df['Name_x'].isnull()]['Name_x'] != df[~df['Name_x'].isnull()]['Name_y'])"
      ]
    },
    {
      "cell_type": "markdown",
      "metadata": {
        "id": "zs-Ls6V70yIU"
      },
      "source": [
        "### 3b. В каком состоянии чаще всего принимают животных, в каком возрасте?"
      ]
    },
    {
      "cell_type": "markdown",
      "metadata": {
        "id": "nsQdq4Z5I_Gm"
      },
      "source": [
        "В базе данных состояние животных `Intake Condition` описывается одним из 17 типов: обычный (164070 животных), раненый (9389 животных), больной (6757 животных) и так далее. "
      ]
    },
    {
      "cell_type": "code",
      "execution_count": null,
      "metadata": {
        "colab": {
          "base_uri": "https://localhost:8080/"
        },
        "id": "MgI5Ptqz2_jk",
        "outputId": "504d4a14-9de2-420d-cb3d-840ab03341ea"
      },
      "outputs": [
        {
          "output_type": "execute_result",
          "data": {
            "text/plain": [
              "Normal        164070\n",
              "Injured         9389\n",
              "Sick            6757\n",
              "Nursing         4075\n",
              "Aged             570\n",
              "Neonatal         513\n",
              "Other            348\n",
              "Medical          242\n",
              "Feral            140\n",
              "Pregnant         128\n",
              "Behavior          86\n",
              "Space              4\n",
              "Med Attn           3\n",
              "Med Urgent         2\n",
              "Agonal             1\n",
              "Panleuk            1\n",
              "Neurologic         1\n",
              "Name: Intake Condition, dtype: int64"
            ]
          },
          "metadata": {},
          "execution_count": 110
        }
      ],
      "source": [
        "df['Intake Condition'].value_counts()"
      ]
    },
    {
      "cell_type": "markdown",
      "metadata": {
        "id": "JbxQUxo83arm"
      },
      "source": [
        "Посмотрим, в каком состоянии и в каком возрасте чаще всего принимают кошек. Для этого разделим кошек по возрастам прибытия в приют `Days_upon_Intake` на шесть категорий согласно https://www.sb.by/articles/vzroslye-ne-po-godam.html.\n",
        "\n",
        "Исследование показало, что чаще всего в приют поступают здоровые котята, здоровые юниоры и здоровые молодые кошки."
      ]
    },
    {
      "cell_type": "code",
      "execution_count": null,
      "metadata": {
        "colab": {
          "base_uri": "https://localhost:8080/"
        },
        "id": "FqEWQ9vEJBlf",
        "outputId": "c39726f9-1d6b-452a-b08e-d97c83be909b"
      },
      "outputs": [
        {
          "output_type": "execute_result",
          "data": {
            "text/plain": [
              "age_category  Intake Condition\n",
              "kitten        Normal              30597\n",
              "junior        Normal              12624\n",
              "young_adult   Normal               4208\n",
              "kitten        Nursing              2266\n",
              "adult         Normal               2035\n",
              "kitten        Sick                 1458\n",
              "junior        Injured              1324\n",
              "kitten        Injured              1289\n",
              "senior_adult  Normal               1092\n",
              "young_adult   Injured               652\n",
              "dtype: int64"
            ]
          },
          "metadata": {},
          "execution_count": 111
        }
      ],
      "source": [
        "bins=[0, 0.5 * 365, 2 * 365, 6 * 365, 10 * 365, 20 * 365]\n",
        "group=['kitten','junior','young_adult','adult', 'senior_adult']\n",
        "df.loc[df['Animal Type_x'] == 'Cat', ['age_category']]=pd.cut(df[\"Days_upon_Intake\"], bins, labels=group)\n",
        "\n",
        "df.loc[df['Animal Type_x'] == 'Cat', ['age_category', 'Intake Condition']].value_counts()[:10]"
      ]
    },
    {
      "cell_type": "markdown",
      "metadata": {
        "id": "_WPDZW3W5KpO"
      },
      "source": [
        "Посмотрим, в каком состоянии и в каком возрасте чаще всего принимают собак. Для этого разделим собак по возрастам прибытия в приют Days_upon_Intake на четыре категории согласно https://purina.by/node/4880.\n",
        "\n",
        "Исследование показало, что чаще всего в приют поступают здоровые щенки, здоровые юниоры и здоровые взрослые собаки.\n"
      ]
    },
    {
      "cell_type": "code",
      "execution_count": null,
      "metadata": {
        "colab": {
          "base_uri": "https://localhost:8080/"
        },
        "id": "Ng0qcu-P5WyP",
        "outputId": "3967e513-7273-4a3e-903f-a6749c6f9f7f"
      },
      "outputs": [
        {
          "output_type": "execute_result",
          "data": {
            "text/plain": [
              "age_category  Intake Condition\n",
              "puppy         Normal              50381\n",
              "junior        Normal              31413\n",
              "adult         Normal              17808\n",
              "senior_adult  Normal               8027\n",
              "puppy         Injured              1667\n",
              "junior        Injured              1478\n",
              "puppy         Sick                 1387\n",
              "              Nursing               999\n",
              "adult         Injured               864\n",
              "senior_adult  Injured               583\n",
              "dtype: int64"
            ]
          },
          "metadata": {},
          "execution_count": 112
        }
      ],
      "source": [
        "bins=[0, 1 * 365, 3 * 365, 7 * 365, 20 * 365]\n",
        "group=['puppy', 'junior', 'adult', 'senior_adult']\n",
        "df.loc[df['Animal Type_x'] == 'Dog', ['age_category']]=pd.cut(df[\"Days_upon_Intake\"], bins, labels=group)\n",
        "\n",
        "df.loc[df['Animal Type_x'] == 'Dog', ['age_category', 'Intake Condition']].value_counts()[:10]"
      ]
    },
    {
      "cell_type": "markdown",
      "metadata": {
        "id": "lmDLBdAK6fg3"
      },
      "source": [
        "Узнаем, в каком возрасте принимают в приют птиц, домашний скот и остальные категории животных. \n",
        "\n",
        "Оказалось, что в приют поступают в основном здоровые животные в возрасте 1 года и меньше, а также заболевшие животные в возрасте меньше 1 года."
      ]
    },
    {
      "cell_type": "code",
      "execution_count": null,
      "metadata": {
        "colab": {
          "base_uri": "https://localhost:8080/"
        },
        "id": "0doylr-d6wwQ",
        "outputId": "ce0ebaaf-5c22-46bf-93fe-116664f12ee6"
      },
      "outputs": [
        {
          "output_type": "execute_result",
          "data": {
            "text/plain": [
              "age_category  Intake Condition\n",
              "< 1 year      Normal              3801\n",
              "1 year        Normal              1195\n",
              "< 1 year      Sick                 916\n",
              "              Injured              682\n",
              "1 year        Sick                 621\n",
              "              Injured              422\n",
              "2 years       Normal               249\n",
              "< 1 year      Nursing               94\n",
              "2 years       Sick                  61\n",
              "3 years       Normal                60\n",
              "dtype: int64"
            ]
          },
          "metadata": {},
          "execution_count": 113
        }
      ],
      "source": [
        "bins=[0, 1 * 365, 2 * 365, 3 * 365, 4 * 365, 5 * 365, 100 * 365]\n",
        "group=['< 1 year', '1 year', '2 years', '3 years', '4 years', '> 4 years']\n",
        "df.loc[(df['Animal Type_x'] != 'Dog') & (df['Animal Type_x'] != 'Cat'), ['age_category']]=pd.cut(df[\"Days_upon_Intake\"], bins, labels=group)\n",
        "\n",
        "df.loc[(df['Animal Type_x'] != 'Dog') & (df['Animal Type_x'] != 'Cat'), ['age_category', 'Intake Condition']].value_counts()[:10]"
      ]
    },
    {
      "cell_type": "markdown",
      "metadata": {
        "id": "z0cx4Sdxi7hd"
      },
      "source": [
        "### 3c. Как животных чаще принимают?"
      ]
    },
    {
      "cell_type": "markdown",
      "metadata": {
        "id": "jT5-Td4KpPoZ"
      },
      "source": [
        "Рассмотрим pie chart, показывающий, какими способами животное попадает в приют. Больше половины животных заблудились, около четверти животных были принесены их предыдущими владельцами."
      ]
    },
    {
      "cell_type": "code",
      "execution_count": null,
      "metadata": {
        "colab": {
          "base_uri": "https://localhost:8080/",
          "height": 575
        },
        "id": "5-BtxySLjAm8",
        "outputId": "735a3521-5e9d-430f-f9c5-9468b1c84c72"
      },
      "outputs": [
        {
          "output_type": "display_data",
          "data": {
            "text/plain": [
              "<Figure size 720x720 with 1 Axes>"
            ],
            "image/png": "[encoded data removed]"
          },
          "metadata": {}
        }
      ],
      "source": [
        "df.groupby(['Intake Type']).sum().plot.pie(y='Days_upon_Intake', figsize=(10, 10))\n",
        "pylab.ylabel('')\n",
        "pylab.legend(bbox_to_anchor=(1,1))\n",
        "pylab.show()"
      ]
    },
    {
      "cell_type": "markdown",
      "metadata": {
        "id": "NDw5ephl9hTm"
      },
      "source": [
        "### 3d. Повлияла ли пандемия на количество животных, покидающих приют?"
      ]
    },
    {
      "cell_type": "markdown",
      "metadata": {
        "id": "eVexvJxP9klW"
      },
      "source": [
        "Посмотрим, повлияла ли пандемия на количество животных в приюте. Для ответа на поставленный вопрос построим график, показывающий, сколько животных приходили или покидали приют за период с 2014 по 2022 годы.\n",
        "\n",
        "Из анализа графика видно, что ежегодное количество пришедших в приют животных (Intake) примерно равно количеству ушедших из приюта животных (Outcome). При этом видно, что в годы пандемии: 2020, 2021 и 2022 годы, животных попадало в приют приблизительно в два раза меньше, чем в допандемийные годы.\n",
        "\n",
        "Таким образом, в годы пандемии стали забирать меньше животных из приюта. По-видимому, это обусловлено тем, что в пандемию стали меньше отдавать животных в приюты."
      ]
    },
    {
      "cell_type": "code",
      "execution_count": null,
      "metadata": {
        "colab": {
          "base_uri": "https://localhost:8080/",
          "height": 265
        },
        "id": "iIHa59Nf9cNY",
        "outputId": "9984cfdb-8d08-4ca5-c059-a87ed85e5137"
      },
      "outputs": [
        {
          "output_type": "display_data",
          "data": {
            "text/plain": [
              "<Figure size 432x288 with 1 Axes>"
            ],
            "image/png": "[encoded data removed]"
          },
          "metadata": {
            "needs_background": "light"
          }
        }
      ],
      "source": [
        "#df[\"Outcome Type\"].groupby([df[\"DateTime_Outcome\"].dt.year, df[\"DateTime_Outcome\"].dt.month]).count().plot(kind=\"bar\")\n",
        "plt.plot(df['Intake Type'].groupby(df[\"DateTime_Intake\"].dt.year).count(), '-', label='Intake')\n",
        "plt.plot(df['Outcome Type'].groupby(df[\"DateTime_Outcome\"].dt.year).count(), '-', label='Outcome')\n",
        "#plt.plot(df['Outcome Type'].loc[(df['Outcome Type'] == 'Euthanasia')].groupby(df[\"DateTime_Outcome\"].dt.year).count(), '-', label='Euthanasia')\n",
        "plt.legend(loc='best')\n",
        "plt.ylabel('Number of animals')\n",
        "plt.show()"
      ]
    },
    {
      "cell_type": "markdown",
      "metadata": {
        "id": "yjfUD0--T-Q2"
      },
      "source": [
        "### 3e. Кто чаще покидает приют: кошки или собаки?"
      ]
    },
    {
      "cell_type": "markdown",
      "metadata": {
        "id": "0JWykaDj1Z05"
      },
      "source": [
        "Согласно построенному графику, чаще всего приют покидают собаки."
      ]
    },
    {
      "cell_type": "code",
      "execution_count": null,
      "metadata": {
        "colab": {
          "base_uri": "https://localhost:8080/",
          "height": 575
        },
        "id": "t-qbnSebT6J1",
        "outputId": "f25761df-57d6-4877-b814-32afc2c46e46"
      },
      "outputs": [
        {
          "output_type": "display_data",
          "data": {
            "text/plain": [
              "<Figure size 720x720 with 1 Axes>"
            ],
            "image/png": "[encoded data removed]"
          },
          "metadata": {}
        }
      ],
      "source": [
        "df.groupby(['Animal Type_x']).sum().plot.pie(y='Days_upon_Outcome', figsize=(10, 10))\n",
        "pylab.ylabel('')\n",
        "pylab.legend(bbox_to_anchor=(1,1))\n",
        "pylab.show()\n"
      ]
    },
    {
      "cell_type": "markdown",
      "metadata": {
        "id": "AXBfcPEwqXlT"
      },
      "source": [
        "### 3f. Какими способами разные животные уходят из приюта?"
      ]
    },
    {
      "cell_type": "markdown",
      "metadata": {
        "id": "V0-V7D27zaOj"
      },
      "source": [
        "Согласно построенным графикам, больше всего кошек и собак покидают приют, попадая к новым владельцам. На втором месте у кошек трансфер, у собак возврат к прежним владельцам. На третьем месте у кошек возврат к прежним владельцам, у собак трансфер."
      ]
    },
    {
      "cell_type": "code",
      "execution_count": null,
      "metadata": {
        "colab": {
          "base_uri": "https://localhost:8080/",
          "height": 356
        },
        "id": "1HQ_699DrgNp",
        "outputId": "f11bec9e-a20b-4e60-c683-b9fd2c740e02"
      },
      "outputs": [
        {
          "output_type": "display_data",
          "data": {
            "text/plain": [
              "<Figure size 1080x360 with 2 Axes>"
            ],
            "image/png": "[encoded data removed]"
          },
          "metadata": {
            "needs_background": "light"
          }
        }
      ],
      "source": [
        "fig, (ax1, ax2) = plt.subplots(1, 2, figsize=(15, 5))\n",
        "fig.suptitle('How cats and dogs leave animal center')\n",
        "\n",
        "ax1.plot(df['Outcome Type'].loc[(df['Outcome Type'] == 'Adoption') & (df['Animal Type_x'] == 'Cat')].groupby(df[\"DateTime_Outcome\"].dt.year).count(), '-', label='Adoption')\n",
        "ax1.plot(df['Outcome Type'].loc[(df['Outcome Type'] == 'Transfer') & (df['Animal Type_x'] == 'Cat')].groupby(df[\"DateTime_Outcome\"].dt.year).count(), '-', label='Transfer')\n",
        "ax1.plot(df['Outcome Type'].loc[(df['Outcome Type'] == 'Return to Owner') & (df['Animal Type_x'] == 'Cat')].groupby(df[\"DateTime_Outcome\"].dt.year).count(), '-', label='Return to Owner')\n",
        "ax1.legend(loc='best')\n",
        "ax1.set(ylabel='Number of cats')\n",
        "ax1.set_ylim([0, 10000])\n",
        "\n",
        "ax2.plot(df['Outcome Type'].loc[(df['Outcome Type'] == 'Adoption') & (df['Animal Type_x'] == 'Dog')].groupby(df[\"DateTime_Outcome\"].dt.year).count(), '-', label='Adoption')\n",
        "ax2.plot(df['Outcome Type'].loc[(df['Outcome Type'] == 'Transfer') & (df['Animal Type_x'] == 'Dog')].groupby(df[\"DateTime_Outcome\"].dt.year).count(), '-', label='Transfer')\n",
        "ax2.plot(df['Outcome Type'].loc[(df['Outcome Type'] == 'Return to Owner') & (df['Animal Type_x'] == 'Dog')].groupby(df[\"DateTime_Outcome\"].dt.year).count(), '-', label='Return to Owner')\n",
        "ax2.legend(loc='best')\n",
        "ax2.set(ylabel='Number of dogs')\n",
        "ax2.set_ylim([0, 10000])\n",
        "plt.show()"
      ]
    },
    {
      "cell_type": "markdown",
      "metadata": {
        "id": "aIrF-ACG1sIN"
      },
      "source": [
        "## 4. Построение моделей"
      ]
    },
    {
      "cell_type": "markdown",
      "metadata": {
        "id": "ijH6zCOL6-lH"
      },
      "source": [
        "### 4a. Удаление столбцов, не нужных для построения модели"
      ]
    },
    {
      "cell_type": "markdown",
      "metadata": {
        "id": "hWaV6bQq5YCD"
      },
      "source": [
        "Удаляем столбцы с данными, которые не пригодятся при построении моделей. Оставим следующие столбцы: 'Intake Type', 'Intake Condition', 'Animal Type_x', 'Sex upon Intake', 'age_category', 'Breed_x', 'Color_x', 'Outcome Type', 'Sex upon Outcome'. Целевая переменная 'Outcome Type'."
      ]
    },
    {
      "cell_type": "code",
      "execution_count": null,
      "metadata": {
        "id": "s4an1DuG5fMd"
      },
      "outputs": [],
      "source": [
        "df = df.drop(['Animal ID', 'Name_x', 'DateTime_x', 'MonthYear_x', 'Found Location',\n",
        "       'Age upon Intake', 'Name_y', 'DateTime_y', 'Breed_x', 'Color_x',\n",
        "       'MonthYear_y', 'Date of Birth', 'Outcome Subtype',\n",
        "       'Animal Type_y', 'Age upon Outcome', 'Breed_y',\n",
        "       'Color_y', 'Days_upon_Intake', 'Days_upon_Outcome', 'DateTime_Intake',\n",
        "       'DateTime_Outcome'],axis = 1)"
      ]
    },
    {
      "cell_type": "code",
      "execution_count": null,
      "metadata": {
        "colab": {
          "base_uri": "https://localhost:8080/"
        },
        "id": "2fzBhfnE5mLr",
        "outputId": "98a9cbea-7a2b-44c3-cdcc-1ec0adcbb83d"
      },
      "outputs": [
        {
          "output_type": "execute_result",
          "data": {
            "text/plain": [
              "Index(['Intake Type', 'Intake Condition', 'Animal Type_x', 'Sex upon Intake',\n",
              "       'Outcome Type', 'Sex upon Outcome', 'age_category'],\n",
              "      dtype='object')"
            ]
          },
          "metadata": {},
          "execution_count": 119
        }
      ],
      "source": [
        "df.columns"
      ]
    },
    {
      "cell_type": "markdown",
      "metadata": {
        "id": "4Xl6p2dy7SP8"
      },
      "source": [
        "### 4b. Преобразование категориальных столбцов в числовые"
      ]
    },
    {
      "cell_type": "markdown",
      "metadata": {
        "id": "xJWw5rh_BsGq"
      },
      "source": [
        "Создаем столбцы с числовыми данными на основе категориальных данных. Категории, в которых мало значений, объединяем в категорию \"Other_<...>\""
      ]
    },
    {
      "cell_type": "code",
      "execution_count": null,
      "metadata": {
        "colab": {
          "base_uri": "https://localhost:8080/"
        },
        "id": "JvhYnHJq2_9S",
        "outputId": "44300eec-18fb-4a52-fe03-5f1ad66e06cf"
      },
      "outputs": [
        {
          "output_type": "stream",
          "name": "stdout",
          "text": [
            "Abandoned  Euthanasia Request  Owner Surrender  Public Assist  Stray  Wildlife\n",
            "0          0                   0                0              1      0           121476\n",
            "                               1                0              0      0            44182\n",
            "                               0                1              0      0            13877\n",
            "                                                0              0      1             5533\n",
            "1          0                   0                0              0      0              978\n",
            "0          1                   0                0              0      0              284\n",
            "dtype: int64\n"
          ]
        }
      ],
      "source": [
        "df_intake_type = pd.get_dummies(df['Intake Type'])\n",
        "print(df_intake_type.value_counts())"
      ]
    },
    {
      "cell_type": "code",
      "execution_count": null,
      "metadata": {
        "colab": {
          "base_uri": "https://localhost:8080/"
        },
        "id": "N_M6AcsP-r45",
        "outputId": "8840a985-b666-416b-80b4-f269b41b4e23"
      },
      "outputs": [
        {
          "output_type": "stream",
          "name": "stdout",
          "text": [
            "Aged  Injured  Neonatal  Normal  Nursing  Sick  Other_Intake_condition\n",
            "0     0        0         1       0        0     0                         164070\n",
            "      1        0         0       0        0     0                           9389\n",
            "      0        0         0       0        1     0                           6757\n",
            "                                 1        0     0                           4075\n",
            "                                 0        0     1                            956\n",
            "1     0        0         0       0        0     0                            570\n",
            "0     0        1         0       0        0     0                            513\n",
            "dtype: int64\n"
          ]
        }
      ],
      "source": [
        "df_intake_condition = pd.get_dummies(df['Intake Condition'])\n",
        "\n",
        "columns_to_concat = ['Agonal', 'Panleuk', 'Neurologic', 'Med Urgent',\\\n",
        "                     'Med Attn', 'Space', 'Behavior', 'Pregnant', 'Feral',\\\n",
        "                     'Medical']\n",
        "for col in columns_to_concat:\n",
        "  df_intake_condition['Other'] = df_intake_condition['Other'] + df_intake_condition[col]\n",
        "\n",
        "df_intake_condition = df_intake_condition.drop(columns_to_concat, axis = 1)\n",
        "df_intake_condition['Other_Intake_condition'] = df_intake_condition['Other']\n",
        "df_intake_condition = df_intake_condition.drop(\"Other\", axis = 1)\n",
        "\n",
        "print(df_intake_condition.value_counts())"
      ]
    },
    {
      "cell_type": "code",
      "execution_count": null,
      "metadata": {
        "colab": {
          "base_uri": "https://localhost:8080/"
        },
        "id": "iKdnXjRUFYMu",
        "outputId": "d858bb55-7791-4f7e-d679-7d0afb721ce5"
      },
      "outputs": [
        {
          "output_type": "stream",
          "name": "stdout",
          "text": [
            "Bird  Cat  Dog  Livestock  Other_Animal_type\n",
            "0     0    1    0          0                    117375\n",
            "      1    0    0          0                     60550\n",
            "      0    0    0          1                      7691\n",
            "1     0    0    0          0                       689\n",
            "0     0    0    1          0                        25\n",
            "dtype: int64\n"
          ]
        }
      ],
      "source": [
        "df_animal_type = pd.get_dummies(df['Animal Type_x'])\n",
        "\n",
        "df_animal_type['Other_Animal_type'] = df_animal_type['Other']\n",
        "df_animal_type = df_animal_type.drop(\"Other\", axis = 1)\n",
        "\n",
        "print(df_animal_type.value_counts())"
      ]
    },
    {
      "cell_type": "code",
      "execution_count": null,
      "metadata": {
        "colab": {
          "base_uri": "https://localhost:8080/"
        },
        "id": "Q9A5ZraYGCIB",
        "outputId": "778237c9-ccd5-4f85-c5fb-9b1a2174a141"
      },
      "outputs": [
        {
          "output_type": "stream",
          "name": "stdout",
          "text": [
            "Intake_IF  Intake_IM  Intake_NM  Intake_SF  Intake_FM\n",
            "0          1          0          0          0            55768\n",
            "1          0          0          0          0            51292\n",
            "0          0          1          0          0            37898\n",
            "                      0          1          0            29997\n",
            "                                 0          1            11375\n",
            "dtype: int64\n"
          ]
        }
      ],
      "source": [
        "df_sex_intake = pd.get_dummies(df['Sex upon Intake'])\n",
        "df_sex_intake.rename(columns={'Intact Female': 'Intake_IF', 'Intact Male': 'Intake_IM',\\\n",
        "                              'Neutered Male': 'Intake_NM', 'Spayed Female': 'Intake_SF',\\\n",
        "                              'Unknown': \"Intake_FM\"}, inplace=True)\n",
        "\n",
        "print(df_sex_intake.value_counts())"
      ]
    },
    {
      "cell_type": "code",
      "execution_count": null,
      "metadata": {
        "colab": {
          "base_uri": "https://localhost:8080/"
        },
        "id": "bga-K1FKHajC",
        "outputId": "ae291189-0b4d-4ae8-df6b-bf78d32c3013"
      },
      "outputs": [
        {
          "output_type": "stream",
          "name": "stdout",
          "text": [
            "Outcome_IF  Outcome_IM  Outcome_NM  Outcome_SF  Outcome_FM\n",
            "0           0           1           0           0             72472\n",
            "                        0           1           0             61555\n",
            "            1           0           0           0             21194\n",
            "1           0           0           0           0             19734\n",
            "0           0           0           0           1             11375\n",
            "dtype: int64\n"
          ]
        }
      ],
      "source": [
        "df_sex_outcome = pd.get_dummies(df['Sex upon Outcome'])\n",
        "df_sex_outcome.rename(columns={'Intact Female': 'Outcome_IF', 'Intact Male': 'Outcome_IM',\\\n",
        "                              'Neutered Male': 'Outcome_NM', 'Spayed Female': 'Outcome_SF',\\\n",
        "                              'Unknown': \"Outcome_FM\"}, inplace=True)\n",
        "\n",
        "print(df_sex_outcome.value_counts())"
      ]
    },
    {
      "cell_type": "code",
      "execution_count": null,
      "metadata": {
        "colab": {
          "base_uri": "https://localhost:8080/"
        },
        "id": "L2SN8O0PH0Sr",
        "outputId": "8cdc6baf-5fd4-47f3-dbbd-38a2bda0c9d2"
      },
      "outputs": [
        {
          "output_type": "stream",
          "name": "stdout",
          "text": [
            "0.0    96348\n",
            "1.0    50588\n",
            "3.0    21739\n",
            "4.0    11057\n",
            "2.0     5600\n",
            "Name: age_category, dtype: int64\n"
          ]
        }
      ],
      "source": [
        "df['age_category'].replace({\"puppy\": 0, \"kitten\": 0, \"< 1 year\": 0, \"1 year\": 1,\\\n",
        "                            \"junior\": 1, \"young_adult\": 2, \"2 years\": 2, \\\n",
        "                            \"adult\": 3, \"3 years\": 3, \"senior_adult\": 4, \\\n",
        "                            \"> 4 years\": 4, \"4 years\": 4}, inplace=True)\n",
        "\n",
        "print(df[\"age_category\"].value_counts())"
      ]
    },
    {
      "cell_type": "code",
      "execution_count": null,
      "metadata": {
        "id": "f4uHOOSzK1s8"
      },
      "outputs": [],
      "source": [
        "df = df.drop(['Intake Type', 'Intake Condition', 'Animal Type_x', 'Sex upon Intake', \\\n",
        "              'Sex upon Outcome'],axis = 1)"
      ]
    },
    {
      "cell_type": "code",
      "execution_count": null,
      "metadata": {
        "id": "4MNQjyXlKcu3"
      },
      "outputs": [],
      "source": [
        "df = pd.concat([df, df_intake_type], axis=1)\n",
        "df = pd.concat([df, df_intake_condition], axis=1)\n",
        "df = pd.concat([df, df_animal_type], axis=1)\n",
        "df = pd.concat([df, df_sex_intake], axis=1)\n",
        "df = pd.concat([df, df_sex_outcome], axis=1)"
      ]
    },
    {
      "cell_type": "markdown",
      "source": [
        "Оставляем только те строки, в которых есть данные и про приход, и про отбытие животного"
      ],
      "metadata": {
        "id": "SgNmtIliN3Xf"
      }
    },
    {
      "cell_type": "code",
      "execution_count": null,
      "metadata": {
        "id": "uyx_HcB-U0rt"
      },
      "outputs": [],
      "source": [
        "df.dropna(inplace=True)"
      ]
    },
    {
      "cell_type": "code",
      "execution_count": null,
      "metadata": {
        "colab": {
          "base_uri": "https://localhost:8080/"
        },
        "id": "RxZivGKMLgMN",
        "outputId": "6c0d9ab6-ae59-450c-a904-f3a7c5952e5b"
      },
      "outputs": [
        {
          "output_type": "execute_result",
          "data": {
            "text/plain": [
              "Index(['Outcome Type', 'age_category', 'Abandoned', 'Euthanasia Request',\n",
              "       'Owner Surrender', 'Public Assist', 'Stray', 'Wildlife', 'Aged',\n",
              "       'Injured', 'Neonatal', 'Normal', 'Nursing', 'Sick',\n",
              "       'Other_Intake_condition', 'Bird', 'Cat', 'Dog', 'Livestock',\n",
              "       'Other_Animal_type', 'Intake_IF', 'Intake_IM', 'Intake_NM', 'Intake_SF',\n",
              "       'Intake_FM', 'Outcome_IF', 'Outcome_IM', 'Outcome_NM', 'Outcome_SF',\n",
              "       'Outcome_FM'],\n",
              "      dtype='object')"
            ]
          },
          "metadata": {},
          "execution_count": 129
        }
      ],
      "source": [
        "df.columns"
      ]
    },
    {
      "cell_type": "markdown",
      "metadata": {
        "id": "85l2g17ZOaI9"
      },
      "source": [
        "Изобразим корреляцию между получившимися параметрами. Красными квадратами обозначены пары параметров, коррелирующие друг с другом. Например, найденные в дикой природе животные (категория `Wildlife`) обычно принадлежат к категории `Other animal type`, и их пол обычно не определен."
      ]
    },
    {
      "cell_type": "code",
      "execution_count": null,
      "metadata": {
        "colab": {
          "base_uri": "https://localhost:8080/",
          "height": 718
        },
        "id": "bU-RGgFqOCiO",
        "outputId": "93dc9f67-2342-4f53-fb9f-eb20b795a100"
      },
      "outputs": [
        {
          "output_type": "execute_result",
          "data": {
            "text/plain": [
              "<matplotlib.axes._subplots.AxesSubplot at 0x7f78f04417d0>"
            ]
          },
          "metadata": {},
          "execution_count": 130
        },
        {
          "output_type": "display_data",
          "data": {
            "text/plain": [
              "<Figure size 864x720 with 2 Axes>"
            ],
            "image/png": "[encoded data removed]"
          },
          "metadata": {
            "needs_background": "light"
          }
        }
      ],
      "source": [
        "# Correlation between different variables\n",
        "#\n",
        "corr = df.corr()\n",
        "#\n",
        "# Set up the matplotlib plot configuration\n",
        "#\n",
        "f, ax = plt.subplots(figsize=(12, 10))\n",
        "#\n",
        "# Generate a mask for upper traingle\n",
        "#\n",
        "mask = np.triu(np.ones_like(corr, dtype=bool))\n",
        "#\n",
        "# Configure a custom diverging colormap\n",
        "#\n",
        "cmap = sns.diverging_palette(230, 20, as_cmap=True)\n",
        "#\n",
        "# Draw the heatmap\n",
        "#\n",
        "sns.heatmap(corr, annot=False, mask = mask, cmap=cmap)"
      ]
    },
    {
      "cell_type": "markdown",
      "metadata": {
        "id": "RwuPhu83MOKD"
      },
      "source": [
        "### 4c. Формирование признаков и целевой переменной"
      ]
    },
    {
      "cell_type": "markdown",
      "metadata": {
        "id": "iMr9h29w83ep"
      },
      "source": [
        "Формируем признаки `X` и целевую переменную `y`"
      ]
    },
    {
      "cell_type": "code",
      "execution_count": null,
      "metadata": {
        "id": "V7CwBosT865N"
      },
      "outputs": [],
      "source": [
        "X, y = df.drop(columns=[\"Outcome Type\"]), df[\"Outcome Type\"]"
      ]
    },
    {
      "cell_type": "code",
      "execution_count": null,
      "metadata": {
        "colab": {
          "base_uri": "https://localhost:8080/",
          "height": 317
        },
        "id": "zIj_IM0b9H1L",
        "outputId": "f26b132a-6035-48d4-ec42-db575605467b"
      },
      "outputs": [
        {
          "output_type": "execute_result",
          "data": {
            "text/plain": [
              "   age_category  Abandoned  Euthanasia Request  Owner Surrender  \\\n",
              "0           0.0          0                   0                0   \n",
              "1           0.0          0                   0                0   \n",
              "2           0.0          0                   0                0   \n",
              "3           4.0          0                   0                0   \n",
              "4           1.0          0                   0                1   \n",
              "\n",
              "   Public Assist  Stray  Wildlife  Aged  Injured  Neonatal  ...  Intake_IF  \\\n",
              "0              0      1         0     0        0         0  ...          1   \n",
              "1              0      1         0     0        0         0  ...          1   \n",
              "2              0      1         0     0        0         0  ...          0   \n",
              "3              0      1         0     0        0         0  ...          0   \n",
              "4              0      0         0     0        0         0  ...          0   \n",
              "\n",
              "   Intake_IM  Intake_NM  Intake_SF  Intake_FM  Outcome_IF  Outcome_IM  \\\n",
              "0          0          0          0          0           1           0   \n",
              "1          0          0          0          0           0           0   \n",
              "2          1          0          0          0           0           0   \n",
              "3          1          0          0          0           0           1   \n",
              "4          0          0          1          0           0           0   \n",
              "\n",
              "   Outcome_NM  Outcome_SF  Outcome_FM  \n",
              "0           0           0           0  \n",
              "1           0           1           0  \n",
              "2           1           0           0  \n",
              "3           0           0           0  \n",
              "4           0           1           0  \n",
              "\n",
              "[5 rows x 29 columns]"
            ],
            "text/html": [
              "\n",
              "  <div id=\"df-a0c6441a-1208-49f6-a5ec-e0f64a1a20bc\">\n",
              "    <div class=\"colab-df-container\">\n",
              "      <div>\n",
              "<style scoped>\n",
              "    .dataframe tbody tr th:only-of-type {\n",
              "        vertical-align: middle;\n",
              "    }\n",
              "\n",
              "    .dataframe tbody tr th {\n",
              "        vertical-align: top;\n",
              "    }\n",
              "\n",
              "    .dataframe thead th {\n",
              "        text-align: right;\n",
              "    }\n",
              "</style>\n",
              "<table border=\"1\" class=\"dataframe\">\n",
              "  <thead>\n",
              "    <tr style=\"text-align: right;\">\n",
              "      <th></th>\n",
              "      <th>age_category</th>\n",
              "      <th>Abandoned</th>\n",
              "      <th>Euthanasia Request</th>\n",
              "      <th>Owner Surrender</th>\n",
              "      <th>Public Assist</th>\n",
              "      <th>Stray</th>\n",
              "      <th>Wildlife</th>\n",
              "      <th>Aged</th>\n",
              "      <th>Injured</th>\n",
              "      <th>Neonatal</th>\n",
              "      <th>...</th>\n",
              "      <th>Intake_IF</th>\n",
              "      <th>Intake_IM</th>\n",
              "      <th>Intake_NM</th>\n",
              "      <th>Intake_SF</th>\n",
              "      <th>Intake_FM</th>\n",
              "      <th>Outcome_IF</th>\n",
              "      <th>Outcome_IM</th>\n",
              "      <th>Outcome_NM</th>\n",
              "      <th>Outcome_SF</th>\n",
              "      <th>Outcome_FM</th>\n",
              "    </tr>\n",
              "  </thead>\n",
              "  <tbody>\n",
              "    <tr>\n",
              "      <th>0</th>\n",
              "      <td>0.0</td>\n",
              "      <td>0</td>\n",
              "      <td>0</td>\n",
              "      <td>0</td>\n",
              "      <td>0</td>\n",
              "      <td>1</td>\n",
              "      <td>0</td>\n",
              "      <td>0</td>\n",
              "      <td>0</td>\n",
              "      <td>0</td>\n",
              "      <td>...</td>\n",
              "      <td>1</td>\n",
              "      <td>0</td>\n",
              "      <td>0</td>\n",
              "      <td>0</td>\n",
              "      <td>0</td>\n",
              "      <td>1</td>\n",
              "      <td>0</td>\n",
              "      <td>0</td>\n",
              "      <td>0</td>\n",
              "      <td>0</td>\n",
              "    </tr>\n",
              "    <tr>\n",
              "      <th>1</th>\n",
              "      <td>0.0</td>\n",
              "      <td>0</td>\n",
              "      <td>0</td>\n",
              "      <td>0</td>\n",
              "      <td>0</td>\n",
              "      <td>1</td>\n",
              "      <td>0</td>\n",
              "      <td>0</td>\n",
              "      <td>0</td>\n",
              "      <td>0</td>\n",
              "      <td>...</td>\n",
              "      <td>1</td>\n",
              "      <td>0</td>\n",
              "      <td>0</td>\n",
              "      <td>0</td>\n",
              "      <td>0</td>\n",
              "      <td>0</td>\n",
              "      <td>0</td>\n",
              "      <td>0</td>\n",
              "      <td>1</td>\n",
              "      <td>0</td>\n",
              "    </tr>\n",
              "    <tr>\n",
              "      <th>2</th>\n",
              "      <td>0.0</td>\n",
              "      <td>0</td>\n",
              "      <td>0</td>\n",
              "      <td>0</td>\n",
              "      <td>0</td>\n",
              "      <td>1</td>\n",
              "      <td>0</td>\n",
              "      <td>0</td>\n",
              "      <td>0</td>\n",
              "      <td>0</td>\n",
              "      <td>...</td>\n",
              "      <td>0</td>\n",
              "      <td>1</td>\n",
              "      <td>0</td>\n",
              "      <td>0</td>\n",
              "      <td>0</td>\n",
              "      <td>0</td>\n",
              "      <td>0</td>\n",
              "      <td>1</td>\n",
              "      <td>0</td>\n",
              "      <td>0</td>\n",
              "    </tr>\n",
              "    <tr>\n",
              "      <th>3</th>\n",
              "      <td>4.0</td>\n",
              "      <td>0</td>\n",
              "      <td>0</td>\n",
              "      <td>0</td>\n",
              "      <td>0</td>\n",
              "      <td>1</td>\n",
              "      <td>0</td>\n",
              "      <td>0</td>\n",
              "      <td>0</td>\n",
              "      <td>0</td>\n",
              "      <td>...</td>\n",
              "      <td>0</td>\n",
              "      <td>1</td>\n",
              "      <td>0</td>\n",
              "      <td>0</td>\n",
              "      <td>0</td>\n",
              "      <td>0</td>\n",
              "      <td>1</td>\n",
              "      <td>0</td>\n",
              "      <td>0</td>\n",
              "      <td>0</td>\n",
              "    </tr>\n",
              "    <tr>\n",
              "      <th>4</th>\n",
              "      <td>1.0</td>\n",
              "      <td>0</td>\n",
              "      <td>0</td>\n",
              "      <td>1</td>\n",
              "      <td>0</td>\n",
              "      <td>0</td>\n",
              "      <td>0</td>\n",
              "      <td>0</td>\n",
              "      <td>0</td>\n",
              "      <td>0</td>\n",
              "      <td>...</td>\n",
              "      <td>0</td>\n",
              "      <td>0</td>\n",
              "      <td>0</td>\n",
              "      <td>1</td>\n",
              "      <td>0</td>\n",
              "      <td>0</td>\n",
              "      <td>0</td>\n",
              "      <td>0</td>\n",
              "      <td>1</td>\n",
              "      <td>0</td>\n",
              "    </tr>\n",
              "  </tbody>\n",
              "</table>\n",
              "<p>5 rows × 29 columns</p>\n",
              "</div>\n",
              "      <button class=\"colab-df-convert\" onclick=\"convertToInteractive('df-a0c6441a-1208-49f6-a5ec-e0f64a1a20bc')\"\n",
              "              title=\"Convert this dataframe to an interactive table.\"\n",
              "              style=\"display:none;\">\n",
              "        \n",
              "  <svg xmlns=\"http://www.w3.org/2000/svg\" height=\"24px\"viewBox=\"0 0 24 24\"\n",
              "       width=\"24px\">\n",
              "    <path d=\"M0 0h24v24H0V0z\" fill=\"none\"/>\n",
              "    <path d=\"M18.56 5.44l.94 2.06.94-2.06 2.06-.94-2.06-.94-.94-2.06-.94 2.06-2.06.94zm-11 1L8.5 8.5l.94-2.06 2.06-.94-2.06-.94L8.5 2.5l-.94 2.06-2.06.94zm10 10l.94 2.06.94-2.06 2.06-.94-2.06-.94-.94-2.06-.94 2.06-2.06.94z\"/><path d=\"M17.41 7.96l-1.37-1.37c-.4-.4-.92-.59-1.43-.59-.52 0-1.04.2-1.43.59L10.3 9.45l-7.72 7.72c-.78.78-.78 2.05 0 2.83L4 21.41c.39.39.9.59 1.41.59.51 0 1.02-.2 1.41-.59l7.78-7.78 2.81-2.81c.8-.78.8-2.07 0-2.86zM5.41 20L4 18.59l7.72-7.72 1.47 1.35L5.41 20z\"/>\n",
              "  </svg>\n",
              "      </button>\n",
              "      \n",
              "  <style>\n",
              "    .colab-df-container {\n",
              "      display:flex;\n",
              "      flex-wrap:wrap;\n",
              "      gap: 12px;\n",
              "    }\n",
              "\n",
              "    .colab-df-convert {\n",
              "      background-color: #E8F0FE;\n",
              "      border: none;\n",
              "      border-radius: 50%;\n",
              "      cursor: pointer;\n",
              "      display: none;\n",
              "      fill: #1967D2;\n",
              "      height: 32px;\n",
              "      padding: 0 0 0 0;\n",
              "      width: 32px;\n",
              "    }\n",
              "\n",
              "    .colab-df-convert:hover {\n",
              "      background-color: #E2EBFA;\n",
              "      box-shadow: 0px 1px 2px rgba(60, 64, 67, 0.3), 0px 1px 3px 1px rgba(60, 64, 67, 0.15);\n",
              "      fill: #174EA6;\n",
              "    }\n",
              "\n",
              "    [theme=dark] .colab-df-convert {\n",
              "      background-color: #3B4455;\n",
              "      fill: #D2E3FC;\n",
              "    }\n",
              "\n",
              "    [theme=dark] .colab-df-convert:hover {\n",
              "      background-color: #434B5C;\n",
              "      box-shadow: 0px 1px 3px 1px rgba(0, 0, 0, 0.15);\n",
              "      filter: drop-shadow(0px 1px 2px rgba(0, 0, 0, 0.3));\n",
              "      fill: #FFFFFF;\n",
              "    }\n",
              "  </style>\n",
              "\n",
              "      <script>\n",
              "        const buttonEl =\n",
              "          document.querySelector('#df-a0c6441a-1208-49f6-a5ec-e0f64a1a20bc button.colab-df-convert');\n",
              "        buttonEl.style.display =\n",
              "          google.colab.kernel.accessAllowed ? 'block' : 'none';\n",
              "\n",
              "        async function convertToInteractive(key) {\n",
              "          const element = document.querySelector('#df-a0c6441a-1208-49f6-a5ec-e0f64a1a20bc');\n",
              "          const dataTable =\n",
              "            await google.colab.kernel.invokeFunction('convertToInteractive',\n",
              "                                                     [key], {});\n",
              "          if (!dataTable) return;\n",
              "\n",
              "          const docLinkHtml = 'Like what you see? Visit the ' +\n",
              "            '<a target=\"_blank\" href=https://colab.research.google.com/notebooks/data_table.ipynb>data table notebook</a>'\n",
              "            + ' to learn more about interactive tables.';\n",
              "          element.innerHTML = '';\n",
              "          dataTable['output_type'] = 'display_data';\n",
              "          await google.colab.output.renderOutput(dataTable, element);\n",
              "          const docLink = document.createElement('div');\n",
              "          docLink.innerHTML = docLinkHtml;\n",
              "          element.appendChild(docLink);\n",
              "        }\n",
              "      </script>\n",
              "    </div>\n",
              "  </div>\n",
              "  "
            ]
          },
          "metadata": {},
          "execution_count": 132
        }
      ],
      "source": [
        "X.head()"
      ]
    },
    {
      "cell_type": "code",
      "execution_count": null,
      "metadata": {
        "colab": {
          "base_uri": "https://localhost:8080/"
        },
        "id": "mM-FNfOo9K7p",
        "outputId": "f5ab2700-ebac-40a5-d70c-b7f4f60f23f6"
      },
      "outputs": [
        {
          "output_type": "execute_result",
          "data": {
            "text/plain": [
              "0           Transfer\n",
              "1           Adoption\n",
              "2           Adoption\n",
              "3    Return to Owner\n",
              "4           Adoption\n",
              "Name: Outcome Type, dtype: object"
            ]
          },
          "metadata": {},
          "execution_count": 133
        }
      ],
      "source": [
        "y.head()"
      ]
    },
    {
      "cell_type": "markdown",
      "metadata": {
        "id": "PKN2MMHd9QQH"
      },
      "source": [
        "Разделяем данные на выборки для обучения и проверки"
      ]
    },
    {
      "cell_type": "code",
      "execution_count": null,
      "metadata": {
        "id": "w_KDHOQq9Ys_"
      },
      "outputs": [],
      "source": [
        "X_train, X_test = train_test_split(X, test_size=0.2)\n",
        "y_train, y_test = train_test_split(y, test_size=0.2)"
      ]
    },
    {
      "cell_type": "code",
      "execution_count": null,
      "metadata": {
        "colab": {
          "base_uri": "https://localhost:8080/"
        },
        "id": "4zEfJ3mqS8vP",
        "outputId": "9029822b-81ca-4748-eacc-8be1113b4e8b"
      },
      "outputs": [
        {
          "output_type": "execute_result",
          "data": {
            "text/plain": [
              "Index(['age_category', 'Abandoned', 'Euthanasia Request', 'Owner Surrender',\n",
              "       'Public Assist', 'Stray', 'Wildlife', 'Aged', 'Injured', 'Neonatal',\n",
              "       'Normal', 'Nursing', 'Sick', 'Other_Intake_condition', 'Bird', 'Cat',\n",
              "       'Dog', 'Livestock', 'Other_Animal_type', 'Intake_IF', 'Intake_IM',\n",
              "       'Intake_NM', 'Intake_SF', 'Intake_FM', 'Outcome_IF', 'Outcome_IM',\n",
              "       'Outcome_NM', 'Outcome_SF', 'Outcome_FM'],\n",
              "      dtype='object')"
            ]
          },
          "metadata": {},
          "execution_count": 135
        }
      ],
      "source": [
        "X_train.columns"
      ]
    },
    {
      "cell_type": "markdown",
      "source": [
        "### 4d. Построение модели логистической регрессии"
      ],
      "metadata": {
        "id": "xsGc6wIAQrHI"
      }
    },
    {
      "cell_type": "code",
      "source": [
        "model = LogisticRegression(solver='lbfgs', max_iter=1000)\n",
        "model.fit(X_train,y_train)\n",
        "LR_train   = model.predict(X_train)\n",
        "LR_test    = model.predict(X_test)"
      ],
      "metadata": {
        "id": "-pgLsHVoQ783"
      },
      "execution_count": null,
      "outputs": []
    },
    {
      "cell_type": "markdown",
      "source": [
        "Сравниваем предсказанный результат с фактическим:"
      ],
      "metadata": {
        "id": "eaQfaXlSXage"
      }
    },
    {
      "cell_type": "code",
      "source": [
        "def true_positives(y_actual, y_predicted):\n",
        "  return sum([int(y_actual[i] == y_predicted[i]) for i in range(len(y_actual))])\n",
        "  \n",
        "print('LR model, length of data {}, number of true positives {}'.format(len(y_train), true_positives([i for i in y_train], LR_train)))"
      ],
      "metadata": {
        "colab": {
          "base_uri": "https://localhost:8080/"
        },
        "id": "cdcHiCSmc3EM",
        "outputId": "9e3149f2-6646-45c6-c23b-c3f87ff9f481"
      },
      "execution_count": null,
      "outputs": [
        {
          "output_type": "stream",
          "name": "stdout",
          "text": [
            "LR model, length of data 148265, number of true positives 69688\n"
          ]
        }
      ]
    },
    {
      "cell_type": "markdown",
      "metadata": {
        "id": "Re5QONKy11BN"
      },
      "source": [
        "### 4e. Построение модели kNN"
      ]
    },
    {
      "cell_type": "code",
      "execution_count": null,
      "metadata": {
        "id": "y9qLZu6ABHLa"
      },
      "outputs": [],
      "source": [
        "# Creating instance of KNN\n",
        "clf = KNN(n_neighbors = 15)\n",
        "\n",
        "# Fitting the model\n",
        "clf.fit(X_train,y_train)\n",
        "\n",
        "# Predicting over the Train Set\n",
        "knn_train = clf.predict(X_train)\n",
        "\n",
        "# Predicting over the Test Set\n",
        "knn_test = clf.predict(X_test)"
      ]
    },
    {
      "cell_type": "markdown",
      "metadata": {
        "id": "Gj0KU1i5hF-c"
      },
      "source": [
        "Сравниваем предсказанный результат с фактическим:"
      ]
    },
    {
      "cell_type": "code",
      "execution_count": null,
      "metadata": {
        "colab": {
          "base_uri": "https://localhost:8080/",
          "height": 457
        },
        "id": "aT8cHSSQg5E3",
        "outputId": "faf5c235-4cd5-43ce-ad48-e5b2b2af621b"
      },
      "outputs": [
        {
          "output_type": "execute_result",
          "data": {
            "text/plain": [
              "Predicted        Adoption  Euthanasia  Return to Owner  Transfer     All\n",
              "True                                                                    \n",
              "Adoption            57496          48             6439      5703   69686\n",
              "Died                  864           3               96        99    1062\n",
              "Disposal              437           2               47        46     532\n",
              "Euthanasia           6336           8              790       659    7793\n",
              "Lost                    1           0                0         0       1\n",
              "Missing                64           0                9         8      81\n",
              "Relocate               19           0                2         2      23\n",
              "Return to Owner     25644          13             3028      2719   31404\n",
              "Rto-Adopt            1116           1              140       130    1387\n",
              "Stolen                  5           0                0         1       6\n",
              "Transfer            29605          25             3404      3256   36290\n",
              "All                121587         100            13955     12623  148265"
            ],
            "text/html": [
              "\n",
              "  <div id=\"df-06908f44-7668-407e-b25a-5549e4f15a6a\">\n",
              "    <div class=\"colab-df-container\">\n",
              "      <div>\n",
              "<style scoped>\n",
              "    .dataframe tbody tr th:only-of-type {\n",
              "        vertical-align: middle;\n",
              "    }\n",
              "\n",
              "    .dataframe tbody tr th {\n",
              "        vertical-align: top;\n",
              "    }\n",
              "\n",
              "    .dataframe thead th {\n",
              "        text-align: right;\n",
              "    }\n",
              "</style>\n",
              "<table border=\"1\" class=\"dataframe\">\n",
              "  <thead>\n",
              "    <tr style=\"text-align: right;\">\n",
              "      <th>Predicted</th>\n",
              "      <th>Adoption</th>\n",
              "      <th>Euthanasia</th>\n",
              "      <th>Return to Owner</th>\n",
              "      <th>Transfer</th>\n",
              "      <th>All</th>\n",
              "    </tr>\n",
              "    <tr>\n",
              "      <th>True</th>\n",
              "      <th></th>\n",
              "      <th></th>\n",
              "      <th></th>\n",
              "      <th></th>\n",
              "      <th></th>\n",
              "    </tr>\n",
              "  </thead>\n",
              "  <tbody>\n",
              "    <tr>\n",
              "      <th>Adoption</th>\n",
              "      <td>57496</td>\n",
              "      <td>48</td>\n",
              "      <td>6439</td>\n",
              "      <td>5703</td>\n",
              "      <td>69686</td>\n",
              "    </tr>\n",
              "    <tr>\n",
              "      <th>Died</th>\n",
              "      <td>864</td>\n",
              "      <td>3</td>\n",
              "      <td>96</td>\n",
              "      <td>99</td>\n",
              "      <td>1062</td>\n",
              "    </tr>\n",
              "    <tr>\n",
              "      <th>Disposal</th>\n",
              "      <td>437</td>\n",
              "      <td>2</td>\n",
              "      <td>47</td>\n",
              "      <td>46</td>\n",
              "      <td>532</td>\n",
              "    </tr>\n",
              "    <tr>\n",
              "      <th>Euthanasia</th>\n",
              "      <td>6336</td>\n",
              "      <td>8</td>\n",
              "      <td>790</td>\n",
              "      <td>659</td>\n",
              "      <td>7793</td>\n",
              "    </tr>\n",
              "    <tr>\n",
              "      <th>Lost</th>\n",
              "      <td>1</td>\n",
              "      <td>0</td>\n",
              "      <td>0</td>\n",
              "      <td>0</td>\n",
              "      <td>1</td>\n",
              "    </tr>\n",
              "    <tr>\n",
              "      <th>Missing</th>\n",
              "      <td>64</td>\n",
              "      <td>0</td>\n",
              "      <td>9</td>\n",
              "      <td>8</td>\n",
              "      <td>81</td>\n",
              "    </tr>\n",
              "    <tr>\n",
              "      <th>Relocate</th>\n",
              "      <td>19</td>\n",
              "      <td>0</td>\n",
              "      <td>2</td>\n",
              "      <td>2</td>\n",
              "      <td>23</td>\n",
              "    </tr>\n",
              "    <tr>\n",
              "      <th>Return to Owner</th>\n",
              "      <td>25644</td>\n",
              "      <td>13</td>\n",
              "      <td>3028</td>\n",
              "      <td>2719</td>\n",
              "      <td>31404</td>\n",
              "    </tr>\n",
              "    <tr>\n",
              "      <th>Rto-Adopt</th>\n",
              "      <td>1116</td>\n",
              "      <td>1</td>\n",
              "      <td>140</td>\n",
              "      <td>130</td>\n",
              "      <td>1387</td>\n",
              "    </tr>\n",
              "    <tr>\n",
              "      <th>Stolen</th>\n",
              "      <td>5</td>\n",
              "      <td>0</td>\n",
              "      <td>0</td>\n",
              "      <td>1</td>\n",
              "      <td>6</td>\n",
              "    </tr>\n",
              "    <tr>\n",
              "      <th>Transfer</th>\n",
              "      <td>29605</td>\n",
              "      <td>25</td>\n",
              "      <td>3404</td>\n",
              "      <td>3256</td>\n",
              "      <td>36290</td>\n",
              "    </tr>\n",
              "    <tr>\n",
              "      <th>All</th>\n",
              "      <td>121587</td>\n",
              "      <td>100</td>\n",
              "      <td>13955</td>\n",
              "      <td>12623</td>\n",
              "      <td>148265</td>\n",
              "    </tr>\n",
              "  </tbody>\n",
              "</table>\n",
              "</div>\n",
              "      <button class=\"colab-df-convert\" onclick=\"convertToInteractive('df-06908f44-7668-407e-b25a-5549e4f15a6a')\"\n",
              "              title=\"Convert this dataframe to an interactive table.\"\n",
              "              style=\"display:none;\">\n",
              "        \n",
              "  <svg xmlns=\"http://www.w3.org/2000/svg\" height=\"24px\"viewBox=\"0 0 24 24\"\n",
              "       width=\"24px\">\n",
              "    <path d=\"M0 0h24v24H0V0z\" fill=\"none\"/>\n",
              "    <path d=\"M18.56 5.44l.94 2.06.94-2.06 2.06-.94-2.06-.94-.94-2.06-.94 2.06-2.06.94zm-11 1L8.5 8.5l.94-2.06 2.06-.94-2.06-.94L8.5 2.5l-.94 2.06-2.06.94zm10 10l.94 2.06.94-2.06 2.06-.94-2.06-.94-.94-2.06-.94 2.06-2.06.94z\"/><path d=\"M17.41 7.96l-1.37-1.37c-.4-.4-.92-.59-1.43-.59-.52 0-1.04.2-1.43.59L10.3 9.45l-7.72 7.72c-.78.78-.78 2.05 0 2.83L4 21.41c.39.39.9.59 1.41.59.51 0 1.02-.2 1.41-.59l7.78-7.78 2.81-2.81c.8-.78.8-2.07 0-2.86zM5.41 20L4 18.59l7.72-7.72 1.47 1.35L5.41 20z\"/>\n",
              "  </svg>\n",
              "      </button>\n",
              "      \n",
              "  <style>\n",
              "    .colab-df-container {\n",
              "      display:flex;\n",
              "      flex-wrap:wrap;\n",
              "      gap: 12px;\n",
              "    }\n",
              "\n",
              "    .colab-df-convert {\n",
              "      background-color: #E8F0FE;\n",
              "      border: none;\n",
              "      border-radius: 50%;\n",
              "      cursor: pointer;\n",
              "      display: none;\n",
              "      fill: #1967D2;\n",
              "      height: 32px;\n",
              "      padding: 0 0 0 0;\n",
              "      width: 32px;\n",
              "    }\n",
              "\n",
              "    .colab-df-convert:hover {\n",
              "      background-color: #E2EBFA;\n",
              "      box-shadow: 0px 1px 2px rgba(60, 64, 67, 0.3), 0px 1px 3px 1px rgba(60, 64, 67, 0.15);\n",
              "      fill: #174EA6;\n",
              "    }\n",
              "\n",
              "    [theme=dark] .colab-df-convert {\n",
              "      background-color: #3B4455;\n",
              "      fill: #D2E3FC;\n",
              "    }\n",
              "\n",
              "    [theme=dark] .colab-df-convert:hover {\n",
              "      background-color: #434B5C;\n",
              "      box-shadow: 0px 1px 3px 1px rgba(0, 0, 0, 0.15);\n",
              "      filter: drop-shadow(0px 1px 2px rgba(0, 0, 0, 0.3));\n",
              "      fill: #FFFFFF;\n",
              "    }\n",
              "  </style>\n",
              "\n",
              "      <script>\n",
              "        const buttonEl =\n",
              "          document.querySelector('#df-06908f44-7668-407e-b25a-5549e4f15a6a button.colab-df-convert');\n",
              "        buttonEl.style.display =\n",
              "          google.colab.kernel.accessAllowed ? 'block' : 'none';\n",
              "\n",
              "        async function convertToInteractive(key) {\n",
              "          const element = document.querySelector('#df-06908f44-7668-407e-b25a-5549e4f15a6a');\n",
              "          const dataTable =\n",
              "            await google.colab.kernel.invokeFunction('convertToInteractive',\n",
              "                                                     [key], {});\n",
              "          if (!dataTable) return;\n",
              "\n",
              "          const docLinkHtml = 'Like what you see? Visit the ' +\n",
              "            '<a target=\"_blank\" href=https://colab.research.google.com/notebooks/data_table.ipynb>data table notebook</a>'\n",
              "            + ' to learn more about interactive tables.';\n",
              "          element.innerHTML = '';\n",
              "          dataTable['output_type'] = 'display_data';\n",
              "          await google.colab.output.renderOutput(dataTable, element);\n",
              "          const docLink = document.createElement('div');\n",
              "          docLink.innerHTML = docLinkHtml;\n",
              "          element.appendChild(docLink);\n",
              "        }\n",
              "      </script>\n",
              "    </div>\n",
              "  </div>\n",
              "  "
            ]
          },
          "metadata": {},
          "execution_count": 139
        }
      ],
      "source": [
        "pd.crosstab(y_train, knn_train, rownames=['True'], colnames=['Predicted'], margins=True)"
      ]
    },
    {
      "cell_type": "code",
      "source": [
        "print('kNN model, length of data {}, number of true positives {}'.format(len(y_train), true_positives([i for i in y_train], knn_train)))"
      ],
      "metadata": {
        "colab": {
          "base_uri": "https://localhost:8080/"
        },
        "id": "M-RorX3mjwos",
        "outputId": "85b0574d-a644-4057-958a-8ff084014d77"
      },
      "execution_count": null,
      "outputs": [
        {
          "output_type": "stream",
          "name": "stdout",
          "text": [
            "kNN model, length of data 148265, number of true positives 63788\n"
          ]
        }
      ]
    },
    {
      "cell_type": "markdown",
      "source": [
        "## Выводы"
      ],
      "metadata": {
        "id": "EourIbAOjZL3"
      }
    },
    {
      "cell_type": "markdown",
      "source": [
        "1.   Проведено исследование данных о животных, находившихся в приюте города Остин (США) за последние 10 лет.\n",
        "2.   Как правило, в приют принимают здоровых и молодых животных. Чаще всего принимают в приют здоровых щенков (50381 животных за рассматриваемый период). В период пандемии количество животных, попадающих в приют и отбывающих из него, сократилось вдвое. Чаще всего приют покидают собаки. И для собак, и для кошек основной способ покинуть приют -- попадение к новым хозяева.\n",
        "3.   Были построены две модели, прогнозирующие способ покидания приюта: модель логистической регрессии (LLR) и модель k-ближайших соседей (kNN). \n",
        "Модель логистической регрессии использовалась как опорная (модель грубая, она утверждает, что все животные попадут к новым хозяевам). количество верноположительных предсказаний составило 69577 из 148265. Вторая модель kNN дифференцирует способы: новая семья, эвтаназия, трансфер, старая семья. Количество верноположительных предсказаний модели kNN составило 63210 из 148265.\n",
        "4.   Модель kNN оказалась несколько хуже опорной модели. Для улучшения модели kNN необходимо выбрать оптимальное количество соседей `k_neighbors`, провести тщательный отбор признаков, оценивать модель по нескольким метрикам.\n"
      ],
      "metadata": {
        "id": "bxZGzAuNl843"
      }
    }
  ],
  "metadata": {
    "colab": {
      "collapsed_sections": [],
      "provenance": [],
      "toc_visible": true,
      "include_colab_link": true
    },
    "kernelspec": {
      "display_name": "Python 3",
      "name": "python3"
    },
    "language_info": {
      "name": "python"
    }
  },
  "nbformat": 4,
  "nbformat_minor": 0
}